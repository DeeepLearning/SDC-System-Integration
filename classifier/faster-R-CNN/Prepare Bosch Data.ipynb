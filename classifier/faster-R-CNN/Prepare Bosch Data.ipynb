{
 "cells": [
  {
   "cell_type": "code",
   "execution_count": 10,
   "metadata": {
    "collapsed": true
   },
   "outputs": [],
   "source": [
    "import os\n",
    "import sys\n",
    "import yaml\n",
    "import tensorflow as tf\n",
    "import sys\n",
    "\n"
   ]
  },
  {
   "cell_type": "markdown",
   "metadata": {},
   "source": [
    "# check paths below...."
   ]
  },
  {
   "cell_type": "code",
   "execution_count": 11,
   "metadata": {
    "collapsed": true
   },
   "outputs": [],
   "source": [
    "# This is needed to display the images.\n",
    "\n",
    "sys.path.append(\"/home/sebastian/Udacity/SDC-System-Integration/classifier/models\") # point to your tensorflow dir\n",
    "sys.path.append(\"/home/sebastian/Udacity/SDC-System-Integration/classifier/models/slim\")\n",
    "sys.path.append(\"/home/sebastian/Udacity/SDC-System-Integration/classifier/models/object_detection/\")\n",
    "\n",
    "# data directory containing rgb folder and train.yaml\n",
    "PATH_TO_DATA = '/home/sebastian/Udacity/SDC-System-Integration/classifier/data' \n",
    "TF_RECORD_OUT_PATH =PATH_TO_DATA+'/boschtfrecord'\n",
    "\n"
   ]
  },
  {
   "cell_type": "code",
   "execution_count": 6,
   "metadata": {},
   "outputs": [],
   "source": [
    "label_dict =  {\n",
    "   \"Green\" : 1,\n",
    "   \"Red\" : 2,\n",
    "   \"GreenLeft\" : 3,\n",
    "   \"GreenRight\" : 4,\n",
    "   \"RedLeft\" : 5,\n",
    "   \"RedRight\" : 6,\n",
    "   \"Yellow\" : 7,\n",
    "   \"off\" : 8,\n",
    "   \"RedStraight\" : 9,\n",
    "   \"GreenStraight\" : 10,\n",
    "   \"GreenStraightLeft\" : 11,\n",
    "   \"GreenStraightRight\" : 12,\n",
    "   \"RedStraightLeft\" : 13,\n",
    "   \"RedStraightRight\" : 14\n",
    "   }"
   ]
  },
  {
   "cell_type": "code",
   "execution_count": 2,
   "metadata": {
    "collapsed": true
   },
   "outputs": [],
   "source": []
  },
  {
   "cell_type": "code",
   "execution_count": 7,
   "metadata": {
    "collapsed": true
   },
   "outputs": [],
   "source": [
    "from object_detection.utils import dataset_util\n",
    "\n",
    "def get_all_labels(input_yaml, riib=False):\n",
    "    \"\"\" Gets all labels within label file\n",
    "    Note that RGB images are 1280x720 and RIIB images are 1280x736.\n",
    "    :param input_yaml: Path to yaml file\n",
    "    :param riib: If True, change path to labeled pictures\n",
    "    :return: images: Labels for traffic lights\n",
    "    \"\"\"\n",
    "    images = yaml.load(open(input_yaml, 'rb').read())\n",
    "\n",
    "    for i in range(len(images)):\n",
    "        images[i]['path'] = os.path.abspath(os.path.join(os.path.dirname(input_yaml), images[i]['path']))\n",
    "        if riib:\n",
    "            images[i]['path'] = images[i]['path'].replace('.png', '.pgm')\n",
    "            images[i]['path'] = images[i]['path'].replace('rgb/train', 'riib/train')\n",
    "            images[i]['path'] = images[i]['path'].replace('rgb/test', 'riib/test')\n",
    "            for box in images[i]['boxes']:\n",
    "                box['y_max'] = box['y_max'] + 8\n",
    "                box['y_min'] = box['y_min'] + 8\n",
    "    return images\n",
    "\n",
    "def create_tf_example(example):\n",
    "    # TODO(user): Populate the following variables from your example.\n",
    "    height = 720 # Image height\n",
    "    width = 1280 # Image width\n",
    "    filepath = example['path'] \n",
    "\n",
    "    filename = example['path'] # Filename of the image. Empty if image is not from file\n",
    "\n",
    "    with tf.gfile.GFile(filepath, 'rb') as fid:\n",
    "        encoded_image_data = fid.read()\n",
    "\n",
    "    image_format = b'png' # b'jpeg' or b'png'\n",
    "\n",
    "    xmins = [] # List of normalized left x coordinates in bounding box (1 per box)\n",
    "    xmaxs = [] # List of normalized right x coordinates in bounding box\n",
    "             # (1 per box)\n",
    "    ymins = [] # List of normalized top y coordinates in bounding box (1 per box)\n",
    "    ymaxs = [] # List of normalized bottom y coordinates in bounding box\n",
    "             # (1 per box)\n",
    "    classes_text = [] # List of string class name of bounding box (1 per box)\n",
    "    classes = [] # List of integer class id of bounding box (1 per box)\n",
    "    \n",
    "    for box in example['boxes']:\n",
    "        if box['occluded']:\n",
    "            continue\n",
    "        else:\n",
    "            xmins.append(box['x_min']/width)\n",
    "            xmaxs.append(box['x_max']/width)\n",
    "            ymins.append(box['y_min']/height)\n",
    "            ymaxs.append(box['y_max']/height)\n",
    "            classes_text.append(box['label'])\n",
    "            classes.append(label_dict.get(box['label']))\n",
    "\n",
    "    tf_example = tf.train.Example(features=tf.train.Features(feature={\n",
    "        'image/height': dataset_util.int64_feature(height),\n",
    "        'image/width': dataset_util.int64_feature(width),\n",
    "        'image/filename': dataset_util.bytes_feature(filename),\n",
    "        'image/source_id': dataset_util.bytes_feature(filename),\n",
    "        'image/encoded': dataset_util.bytes_feature(encoded_image_data),\n",
    "        'image/format': dataset_util.bytes_feature(image_format),\n",
    "        'image/object/bbox/xmin': dataset_util.float_list_feature(xmins),\n",
    "        'image/object/bbox/xmax': dataset_util.float_list_feature(xmaxs),\n",
    "        'image/object/bbox/ymin': dataset_util.float_list_feature(ymins),\n",
    "        'image/object/bbox/ymax': dataset_util.float_list_feature(ymaxs),\n",
    "        'image/object/class/text': dataset_util.bytes_list_feature(classes_text),\n",
    "        'image/object/class/label': dataset_util.int64_list_feature(classes),\n",
    "    }))\n",
    "    return tf_example\n",
    "\n",
    "\n"
   ]
  },
  {
   "cell_type": "code",
   "execution_count": null,
   "metadata": {
    "collapsed": true
   },
   "outputs": [],
   "source": [
    "dataset = get_all_labels(PATH_TO_DATA + '/train.yaml')"
   ]
  },
  {
   "cell_type": "code",
   "execution_count": 8,
   "metadata": {},
   "outputs": [],
   "source": [
    "#Write one big file ..around 7GB\n",
    "\n",
    "writer = tf.python_io.TFRecordWriter(TF_RECORD_OUT_PATH)\n",
    "for example in dataset:\n",
    "    tf_example = create_tf_example(example)\n",
    "    writer.write(tf_example.SerializeToString())\n",
    "writer.close()\n"
   ]
  },
  {
   "cell_type": "code",
   "execution_count": null,
   "metadata": {
    "collapsed": true
   },
   "outputs": [],
   "source": []
  }
 ],
 "metadata": {
  "kernelspec": {
   "display_name": "Python 2",
   "language": "python",
   "name": "python2"
  },
  "language_info": {
   "codemirror_mode": {
    "name": "ipython",
    "version": 2
   },
   "file_extension": ".py",
   "mimetype": "text/x-python",
   "name": "python",
   "nbconvert_exporter": "python",
   "pygments_lexer": "ipython2",
   "version": "2.7.12"
  }
 },
 "nbformat": 4,
 "nbformat_minor": 2
}
