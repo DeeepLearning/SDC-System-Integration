{
 "cells": [
  {
   "cell_type": "code",
   "execution_count": 1,
   "metadata": {
    "collapsed": true
   },
   "outputs": [],
   "source": [
    "# predict keras model\n",
    "# https://stackoverflow.com/questions/43469281/how-to-predict-input-image-using-trained-model-in-keras"
   ]
  },
  {
   "cell_type": "code",
   "execution_count": 14,
   "metadata": {
    "collapsed": false
   },
   "outputs": [],
   "source": [
    "from keras.models import load_model\n",
    "from keras.preprocessing import image\n",
    "import numpy as np\n",
    "from keras.optimizers import Adam\n",
    "import matplotlib.pyplot as plt\n",
    "import matplotlib.image as mpimg"
   ]
  },
  {
   "cell_type": "code",
   "execution_count": 15,
   "metadata": {
    "collapsed": false
   },
   "outputs": [],
   "source": [
    "model_predict = load_model('007_traffic_lights_classifier_basenet_sgd_epoch25.h5')"
   ]
  },
  {
   "cell_type": "code",
   "execution_count": 16,
   "metadata": {
    "collapsed": false
   },
   "outputs": [],
   "source": [
    "adam = Adam(lr=0.001, beta_1=0.9, beta_2=0.999, decay=0.01) # original\n",
    "model_predict.compile(optimizer=adam, loss='categorical_crossentropy', metrics=['accuracy'])"
   ]
  },
  {
   "cell_type": "code",
   "execution_count": 35,
   "metadata": {
    "collapsed": true
   },
   "outputs": [],
   "source": [
    "# helper functions\n",
    "\n",
    "# Min-Max scaling for grayscale image data\n",
    "# http://sebastianraschka.com/Articles/2014_about_feature_scaling.html#about-min-max-scaling\n",
    "def normalize_scale(X):\n",
    "    a = 0\n",
    "    b = 1.0\n",
    "    return a + X * (b-a) / 255\n",
    "\n",
    "# http://lamda.nju.edu.cn/weixs/project/CNNTricks/CNNTricks.html\n",
    "def standardize(X):\n",
    "    X -= np.mean(X, axis = 0) # zero-center\n",
    "    X /= np.std(X, axis = 0) # normalize\n",
    "    return (X)\n",
    "\n",
    "# preprocessing pipeline\n",
    "def prepare_data(X):\n",
    "    \n",
    "    # step 1: convert to gray image\n",
    "    #X = rgb2gray(X)\n",
    "    \n",
    "    # add the dimensions again in order for working with LeNet\n",
    "    X = np.reshape(X, (X.shape[0],32,32,-1))\n",
    "    \n",
    "    # Step 2: Normalize RGB-values into interval [-1,1]    \n",
    "    X = normalize_scale(X)\n",
    "\n",
    "    # Step 3: Convert data to values with zero mean and std = 1\n",
    "    X = standardize(X)\n",
    "    return X"
   ]
  },
  {
   "cell_type": "code",
   "execution_count": null,
   "metadata": {
    "collapsed": true
   },
   "outputs": [],
   "source": [
    "https://stackoverflow.com/questions/44156974/how-to-interpret-keras-predict-generator-output\n",
    "from keras.models import load_model\n",
    "from keras.preprocessing.image import ImageDataGenerator\n",
    "from keras.preprocessing.image import img_to_array, load_img\n",
    "import numpy as np\n",
    "\n",
    "# dimensions of our images.\n",
    "img_width, img_height = 150, 150\n",
    "batch_size = 16\n",
    "\n",
    "test_model = load_model('first_try1.h5')\n",
    "\n",
    "\n",
    "img = load_img('data/train/dogs/dog.2.jpg',False,target_size=(img_width,img_height))\n",
    "\n",
    "validation_data_dir=\"test1\"\n",
    "\n",
    "test_datagen = ImageDataGenerator(rescale=1. / 255)\n",
    "validation_generator = test_datagen.flow_from_directory(\n",
    "    validation_data_dir,\n",
    "    target_size=(img_width, img_height),\n",
    "    batch_size=batch_size,\n",
    "    class_mode='binary')\n",
    "print(len(validation_generator.filenames))\n",
    "predictions=test_model.predict_generator(validation_generator,len(validation_generator.filenames));\n",
    "#print(predictions)"
   ]
  },
  {
   "cell_type": "code",
   "execution_count": 41,
   "metadata": {
    "collapsed": false
   },
   "outputs": [
    {
     "name": "stdout",
     "output_type": "stream",
     "text": [
      "Populating the interactive namespace from numpy and matplotlib\n"
     ]
    },
    {
     "data": {
      "image/png": "[encoded data removed]",
      "text/plain": [
       "<matplotlib.figure.Figure at 0x1291aff98>"
      ]
     },
     "metadata": {},
     "output_type": "display_data"
    },
    {
     "name": "stdout",
     "output_type": "stream",
     "text": [
      "1/1 [==============================] - 0s\n",
      "[1]\n"
     ]
    },
    {
     "name": "stderr",
     "output_type": "stream",
     "text": [
      "/Users/rainerbareiss/Developer/miniconda3/envs/carnd-term1/lib/python3.5/site-packages/ipykernel/__main__.py:13: RuntimeWarning: invalid value encountered in true_divide\n"
     ]
    }
   ],
   "source": [
    "my_sample = 'images_from_simulator/sim03.png'\n",
    "\n",
    "# dimensions of our images\n",
    "img_width, img_height = 64, 64\n",
    "\n",
    "# show image\n",
    "# show cropped image\n",
    "%pylab inline\n",
    "img=mpimg.imread(my_sample)\n",
    "imgplot = plt.imshow(img)\n",
    "plt.show()\n",
    "\n",
    "# predicting images\n",
    "img = image.load_img(my_sample, target_size=(img_width, img_height))\n",
    "x = prepare_data(x)\n",
    "x = image.img_to_array(img)\n",
    "x = np.expand_dims(x, axis=0)\n",
    "\n",
    "\n",
    "images = np.vstack([x])\n",
    "classes = model_predict.predict_classes(images, batch_size=64)\n",
    "print(classes)"
   ]
  },
  {
   "cell_type": "code",
   "execution_count": null,
   "metadata": {
    "collapsed": true
   },
   "outputs": [],
   "source": [
    "\n",
    "\n",
    "\n",
    "# predicting multiple images at once\n",
    "img = image.load_img('test2.jpg', target_size=(img_width, img_height))\n",
    "y = image.img_to_array(img)\n",
    "y = np.expand_dims(y, axis=0)\n",
    "\n",
    "# pass the list of multiple images np.vstack()\n",
    "images = np.vstack([x, y])\n",
    "classes = model.predict_classes(images, batch_size=10)\n",
    "\n",
    "# print the classes, the images belong to\n",
    "print classes\n",
    "print classes[0]\n",
    "print classes[0][0]"
   ]
  }
 ],
 "metadata": {
  "kernelspec": {
   "display_name": "Python 3",
   "language": "python",
   "name": "python3"
  },
  "language_info": {
   "codemirror_mode": {
    "name": "ipython",
    "version": 3
   },
   "file_extension": ".py",
   "mimetype": "text/x-python",
   "name": "python",
   "nbconvert_exporter": "python",
   "pygments_lexer": "ipython3",
   "version": "3.5.2"
  },
  "widgets": {
   "state": {},
   "version": "1.1.2"
  }
 },
 "nbformat": 4,
 "nbformat_minor": 2
}
