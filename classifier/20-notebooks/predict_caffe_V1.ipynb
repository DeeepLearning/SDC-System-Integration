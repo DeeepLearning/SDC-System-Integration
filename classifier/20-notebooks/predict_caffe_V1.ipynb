{
 "cells": [
  {
   "cell_type": "code",
   "execution_count": 1,
   "metadata": {
    "collapsed": true
   },
   "outputs": [],
   "source": [
    "# https://groups.google.com/forum/#!topic/caffe-users/wWSGX4vmAh4"
   ]
  },
  {
   "cell_type": "code",
   "execution_count": null,
   "metadata": {
    "collapsed": true
   },
   "outputs": [],
   "source": [
    "###########################\n",
    "# Predict using Caffe model\n",
    "###########################\n",
    "Make sure that caffe is on the python path:\n",
    "caffe_root = '/home/user/CODE/caffe/'  # this file is expected to be in {caffe_root}/examples\n",
    "import sys\n",
    "sys.path.insert(0, caffe_root + 'python')\n",
    "\n",
    "import caffe\n",
    "# Set the right path to your model definition file, pretrained model weights,\n",
    "# and the image you would like to classify.\n",
    "MODEL_FILE = '/home/melgor/CODE/caffe/examples/Try/train_val.prototxt'\n",
    "PRETRAINED = '/home/melgor/CODE/caffe/examples/Try/_iter_45000.caffemodel'\n",
    "\n",
    "net = caffe.Net (MODEL_FILE,PRETRAINED)\n",
    "net.set_phase_test()\n",
    "net.set_mode_cpu()\n",
    "data4D = np.zeros([100,1,1,3593]) #create 4D array, first value is batch_size, last number of input\n",
    "data4DL = np.zeros([100,1,1,1])\t  # need to create 4D array as output, first value is batch_size, last number of output\n",
    "data4D[0:100,0,0,:] = xtest[0:100,:] # fill value of input\n",
    "net.set_input_arrays(data4D.astype(np.float32),data4DL.astype(np.float32))\n",
    "pred = net.forward()"
   ]
  }
 ],
 "metadata": {
  "kernelspec": {
   "display_name": "Python 3",
   "language": "python",
   "name": "python3"
  },
  "language_info": {
   "codemirror_mode": {
    "name": "ipython",
    "version": 3
   },
   "file_extension": ".py",
   "mimetype": "text/x-python",
   "name": "python",
   "nbconvert_exporter": "python",
   "pygments_lexer": "ipython3",
   "version": "3.5.2"
  },
  "widgets": {
   "state": {},
   "version": "1.1.2"
  }
 },
 "nbformat": 4,
 "nbformat_minor": 2
}
